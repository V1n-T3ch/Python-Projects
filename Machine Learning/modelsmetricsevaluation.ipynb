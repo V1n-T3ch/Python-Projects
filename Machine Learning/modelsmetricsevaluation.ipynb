{
 "cells": [
  {
   "cell_type": "markdown",
   "id": "f84f72e8-3a2a-49b4-8f89-1931c45005ee",
   "metadata": {
    "tags": []
   },
   "source": [
    "# Models Metrics  and  Evaluation `DSAIC`"
   ]
  },
  {
   "cell_type": "code",
   "execution_count": 1,
   "id": "3MJd2dmdQuDX",
   "metadata": {
    "colab": {
     "base_uri": "https://localhost:8080/",
     "height": 73
    },
    "id": "3MJd2dmdQuDX",
    "outputId": "28f27b91-d8ae-4fa6-8585-4752d254d494"
   },
   "outputs": [
    {
     "ename": "ModuleNotFoundError",
     "evalue": "No module named 'google'",
     "output_type": "error",
     "traceback": [
      "\u001b[1;31m---------------------------------------------------------------------------\u001b[0m",
      "\u001b[1;31mModuleNotFoundError\u001b[0m                       Traceback (most recent call last)",
      "\u001b[1;32m~\\AppData\\Local\\Temp\\ipykernel_7044\\33054507.py\u001b[0m in \u001b[0;36m<module>\u001b[1;34m\u001b[0m\n\u001b[1;32m----> 1\u001b[1;33m \u001b[1;32mfrom\u001b[0m \u001b[0mgoogle\u001b[0m\u001b[1;33m.\u001b[0m\u001b[0mcolab\u001b[0m \u001b[1;32mimport\u001b[0m \u001b[0mfiles\u001b[0m\u001b[1;33m\u001b[0m\u001b[1;33m\u001b[0m\u001b[0m\n\u001b[0m\u001b[0;32m      2\u001b[0m \u001b[0mupload\u001b[0m\u001b[1;33m=\u001b[0m\u001b[0mfiles\u001b[0m\u001b[1;33m.\u001b[0m\u001b[0mupload\u001b[0m\u001b[1;33m(\u001b[0m\u001b[1;33m)\u001b[0m\u001b[1;33m\u001b[0m\u001b[1;33m\u001b[0m\u001b[0m\n",
      "\u001b[1;31mModuleNotFoundError\u001b[0m: No module named 'google'"
     ]
    }
   ],
   "source": [
    "from google.colab import files\n",
    "upload=files.upload()"
   ]
  },
  {
   "cell_type": "code",
   "execution_count": null,
   "id": "c2YSPD4zNCft",
   "metadata": {
    "id": "c2YSPD4zNCft",
    "tags": []
   },
   "outputs": [],
   "source": [
    "from sklearn.preprocessing import  LabelEncoder\n",
    "import  pandas  as  pd\n",
    "import  numpy  as  np\n",
    "import io\n",
    "import  matplotlib.pyplot as plt\n",
    "import seaborn as sns\n",
    "import  plotly.express as  px\n",
    "from sklearn.model_selection import train_test_split\n",
    "from sklearn.metrics import accuracy_score\n",
    "from sklearn.svm import SVC\n",
    "from sklearn.feature_extraction.text import TfidfVectorizer\n",
    "from sklearn.pipeline import Pipeline\n",
    "from sklearn.svm import LinearSVC"
   ]
  },
  {
   "cell_type": "code",
   "execution_count": null,
   "id": "4pPLhhI9Q-QO",
   "metadata": {
    "id": "4pPLhhI9Q-QO",
    "tags": []
   },
   "outputs": [],
   "source": [
    "df = pd.read_csv('Data.csv')"
   ]
  },
  {
   "cell_type": "code",
   "execution_count": null,
   "id": "ScuF6EoBQ-NQ",
   "metadata": {
    "colab": {
     "base_uri": "https://localhost:8080/",
     "height": 634
    },
    "id": "ScuF6EoBQ-NQ",
    "outputId": "0ac50ea1-f708-40ac-e29e-5b5993b014b7",
    "tags": []
   },
   "outputs": [
    {
     "data": {
      "text/html": [
       "<div>\n",
       "<style scoped>\n",
       "    .dataframe tbody tr th:only-of-type {\n",
       "        vertical-align: middle;\n",
       "    }\n",
       "\n",
       "    .dataframe tbody tr th {\n",
       "        vertical-align: top;\n",
       "    }\n",
       "\n",
       "    .dataframe thead th {\n",
       "        text-align: right;\n",
       "    }\n",
       "</style>\n",
       "<table border=\"1\" class=\"dataframe\">\n",
       "  <thead>\n",
       "    <tr style=\"text-align: right;\">\n",
       "      <th></th>\n",
       "      <th>par_id</th>\n",
       "      <th>paragraph</th>\n",
       "      <th>has_entity</th>\n",
       "      <th>lexicon_count</th>\n",
       "      <th>difficult_words</th>\n",
       "      <th>last_editor_gender</th>\n",
       "      <th>category</th>\n",
       "      <th>text_clarity</th>\n",
       "    </tr>\n",
       "  </thead>\n",
       "  <tbody>\n",
       "    <tr>\n",
       "      <th>0</th>\n",
       "      <td>4.282090e+11</td>\n",
       "      <td>Ramsay was born in Glasgow on 2 October 1852. ...</td>\n",
       "      <td>ORG_YES_PRODUCT_NO_PERSON_YES_</td>\n",
       "      <td>49</td>\n",
       "      <td>12.0</td>\n",
       "      <td>man</td>\n",
       "      <td>biographies</td>\n",
       "      <td>clear_enough</td>\n",
       "    </tr>\n",
       "    <tr>\n",
       "      <th>1</th>\n",
       "      <td>5.642180e+11</td>\n",
       "      <td>It has been widely estimated for at least the ...</td>\n",
       "      <td>ORG_YES_PRODUCT_NO_PERSON_NO_</td>\n",
       "      <td>166</td>\n",
       "      <td>47.0</td>\n",
       "      <td>man</td>\n",
       "      <td>artificial intelligence</td>\n",
       "      <td>not_clear_enough</td>\n",
       "    </tr>\n",
       "    <tr>\n",
       "      <th>2</th>\n",
       "      <td>2.914010e+11</td>\n",
       "      <td>He went on to win the Royal Medal of the Royal...</td>\n",
       "      <td>ORG_YES_PRODUCT_NO_PERSON_NO_</td>\n",
       "      <td>69</td>\n",
       "      <td>18.0</td>\n",
       "      <td>non-binary</td>\n",
       "      <td>biographies</td>\n",
       "      <td>clear_enough</td>\n",
       "    </tr>\n",
       "  </tbody>\n",
       "</table>\n",
       "</div>"
      ],
      "text/plain": [
       "         par_id                                          paragraph  \\\n",
       "0  4.282090e+11  Ramsay was born in Glasgow on 2 October 1852. ...   \n",
       "1  5.642180e+11  It has been widely estimated for at least the ...   \n",
       "2  2.914010e+11  He went on to win the Royal Medal of the Royal...   \n",
       "\n",
       "                       has_entity  lexicon_count  difficult_words  \\\n",
       "0  ORG_YES_PRODUCT_NO_PERSON_YES_             49             12.0   \n",
       "1   ORG_YES_PRODUCT_NO_PERSON_NO_            166             47.0   \n",
       "2   ORG_YES_PRODUCT_NO_PERSON_NO_             69             18.0   \n",
       "\n",
       "  last_editor_gender                 category      text_clarity  \n",
       "0                man              biographies      clear_enough  \n",
       "1                man  artificial intelligence  not_clear_enough  \n",
       "2         non-binary              biographies      clear_enough  "
      ]
     },
     "execution_count": 5,
     "metadata": {},
     "output_type": "execute_result"
    }
   ],
   "source": [
    "df.head(3)"
   ]
  },
  {
   "cell_type": "markdown",
   "id": "834ekSTX1gH7",
   "metadata": {
    "id": "834ekSTX1gH7"
   },
   "source": [
    "## 2.  Data  exprolation and  assesment"
   ]
  },
  {
   "cell_type": "code",
   "execution_count": null,
   "id": "6fF6IM9ZLTaC",
   "metadata": {
    "colab": {
     "base_uri": "https://localhost:8080/",
     "height": 1000
    },
    "id": "6fF6IM9ZLTaC",
    "outputId": "63f506e7-b025-403f-cb00-6a5186de0548",
    "tags": []
   },
   "outputs": [
    {
     "data": {
      "image/png": "[encoded data removed]",
      "text/plain": [
       "<Figure size 640x480 with 1 Axes>"
      ]
     },
     "metadata": {},
     "output_type": "display_data"
    },
    {
     "data": {
      "image/png": "[encoded data removed]",
      "text/plain": [
       "<Figure size 640x480 with 1 Axes>"
      ]
     },
     "metadata": {},
     "output_type": "display_data"
    },
    {
     "data": {
      "image/png": "[encoded data removed]",
      "text/plain": [
       "<Figure size 640x480 with 1 Axes>"
      ]
     },
     "metadata": {},
     "output_type": "display_data"
    }
   ],
   "source": [
    "from matplotlib import pyplot as plt\n",
    "import seaborn as sns\n",
    "plt.subplot(3,1,1)\n",
    "df.groupby('text_clarity').size().plot(kind='barh', color=sns.palettes.mpl_palette('Dark2'))\n",
    "plt.gca().spines[['top', 'right',]].set_visible(False)\n",
    "plt.show()\n",
    "plt.subplot(3,1,2,)\n",
    "df.groupby('last_editor_gender').size().plot(kind='barh', color=sns.palettes.mpl_palette('Dark2'))\n",
    "plt.gca().spines[['top', 'right',]].set_visible(False)\n",
    "plt.show()\n",
    "plt.subplot(3,1,3)\n",
    "df['difficult_words'].plot(kind='hist', bins=20, title='difficult_words')\n",
    "plt.gca().spines[['top', 'right',]].set_visible(False)\n",
    "plt.show()"
   ]
  },
  {
   "cell_type": "code",
   "execution_count": null,
   "id": "o7BAUnUxYGA8",
   "metadata": {
    "colab": {
     "base_uri": "https://localhost:8080/"
    },
    "id": "o7BAUnUxYGA8",
    "outputId": "d9e2ca3d-2bcb-439d-bded-a9475be5d242",
    "tags": []
   },
   "outputs": [
    {
     "data": {
      "text/plain": [
       "par_id                   0\n",
       "paragraph                0\n",
       "has_entity               0\n",
       "lexicon_count            0\n",
       "difficult_words         18\n",
       "last_editor_gender       0\n",
       "category                61\n",
       "text_clarity          9338\n",
       "dtype: int64"
      ]
     },
     "execution_count": 7,
     "metadata": {},
     "output_type": "execute_result"
    }
   ],
   "source": [
    "df.isna().sum()"
   ]
  },
  {
   "cell_type": "markdown",
   "id": "v-pztk4YoNhf",
   "metadata": {
    "id": "v-pztk4YoNhf"
   },
   "source": [
    "We need  to fill null for  our target  `cartegory` to avoid  issues with training  our  model."
   ]
  },
  {
   "cell_type": "code",
   "execution_count": null,
   "id": "7r9QSa5_cS-3",
   "metadata": {
    "id": "7r9QSa5_cS-3",
    "tags": []
   },
   "outputs": [],
   "source": [
    "df.dropna(subset=[\"category\"], inplace=True)"
   ]
  },
  {
   "cell_type": "code",
   "execution_count": null,
   "id": "H3VF7hhaznZU",
   "metadata": {
    "colab": {
     "base_uri": "https://localhost:8080/"
    },
    "id": "H3VF7hhaznZU",
    "outputId": "dc71d54f-4259-4bd8-8c09-9c3c915071ca",
    "tags": []
   },
   "outputs": [
    {
     "data": {
      "text/plain": [
       "6157"
      ]
     },
     "execution_count": 9,
     "metadata": {},
     "output_type": "execute_result"
    }
   ],
   "source": [
    "df[\"par_id\"].duplicated().sum()"
   ]
  },
  {
   "cell_type": "code",
   "execution_count": null,
   "id": "Im9-UJdy0EcH",
   "metadata": {
    "colab": {
     "base_uri": "https://localhost:8080/"
    },
    "id": "Im9-UJdy0EcH",
    "outputId": "a38914ed-fb3b-40c0-d510-5f3b487a9bb9",
    "tags": []
   },
   "outputs": [
    {
     "data": {
      "text/plain": [
       "par_id                3129\n",
       "paragraph             8992\n",
       "has_entity               9\n",
       "lexicon_count          348\n",
       "difficult_words        113\n",
       "last_editor_gender       4\n",
       "category                10\n",
       "text_clarity             2\n",
       "dtype: int64"
      ]
     },
     "execution_count": 10,
     "metadata": {},
     "output_type": "execute_result"
    }
   ],
   "source": [
    "df.nunique()"
   ]
  },
  {
   "cell_type": "markdown",
   "id": "wL5bejc_1wYo",
   "metadata": {
    "id": "wL5bejc_1wYo"
   },
   "source": [
    "From the  total unique values  in the  columns, we  find  that  the  column `paragraph`  is suitable  to drop the  duplicated data  "
   ]
  },
  {
   "cell_type": "code",
   "execution_count": null,
   "id": "Ry3s1xfk0Tkx",
   "metadata": {
    "colab": {
     "base_uri": "https://localhost:8080/"
    },
    "id": "Ry3s1xfk0Tkx",
    "outputId": "6e1ed9e3-2e7c-4cba-c821-6059855e661f",
    "tags": []
   },
   "outputs": [
    {
     "data": {
      "text/plain": [
       "294"
      ]
     },
     "execution_count": 11,
     "metadata": {},
     "output_type": "execute_result"
    }
   ],
   "source": [
    "df[\"paragraph\"].duplicated().sum()"
   ]
  },
  {
   "cell_type": "code",
   "execution_count": null,
   "id": "rpJhI40O0gBt",
   "metadata": {
    "id": "rpJhI40O0gBt",
    "tags": []
   },
   "outputs": [],
   "source": [
    "df.drop_duplicates(subset = [\"paragraph\"], inplace= True, keep=\"first\")"
   ]
  },
  {
   "cell_type": "code",
   "execution_count": null,
   "id": "6HbDmKRx0ukq",
   "metadata": {
    "colab": {
     "base_uri": "https://localhost:8080/"
    },
    "id": "6HbDmKRx0ukq",
    "outputId": "8e29bcd7-f859-46f0-aa57-a3b73cdad257",
    "tags": []
   },
   "outputs": [
    {
     "data": {
      "text/plain": [
       "0"
      ]
     },
     "execution_count": 13,
     "metadata": {},
     "output_type": "execute_result"
    }
   ],
   "source": [
    "df[\"paragraph\"].duplicated().sum()"
   ]
  },
  {
   "cell_type": "code",
   "execution_count": null,
   "id": "WwwYOOhztleV",
   "metadata": {
    "colab": {
     "base_uri": "https://localhost:8080/"
    },
    "id": "WwwYOOhztleV",
    "outputId": "b227eb91-fb1c-442e-c5b3-70e1c9744a71",
    "tags": []
   },
   "outputs": [
    {
     "name": "stdout",
     "output_type": "stream",
     "text": [
      "['biographies' 'artificial intelligence' 'programming' 'philosophy'\n",
      " 'movies about artificial intelligence' 'Philosophy' 'Programming'\n",
      " 'Artificial intelligence' 'Biographies'\n",
      " 'Movies about artificial intelligence']\n"
     ]
    },
    {
     "data": {
      "text/plain": [
       "10"
      ]
     },
     "execution_count": 14,
     "metadata": {},
     "output_type": "execute_result"
    }
   ],
   "source": [
    "print(df[\"category\"].unique())\n",
    "len(df[\"category\"].unique())"
   ]
  },
  {
   "cell_type": "code",
   "execution_count": null,
   "id": "ygB7EIWiy-4C",
   "metadata": {
    "colab": {
     "base_uri": "https://localhost:8080/",
     "height": 596
    },
    "id": "ygB7EIWiy-4C",
    "outputId": "a52f0225-089e-4f47-fdfc-f949bdd87bf6",
    "tags": []
   },
   "outputs": [],
   "source": [
    "sns.barplot(pd.get_dummies(df[\"category\"]))\n",
    "plt.xticks(rotation=45)\n",
    "plt.show()\n",
    "#px.bar(pd.get_dummies(df[\"category\"]))"
   ]
  },
  {
   "cell_type": "markdown",
   "id": "q6o9Ag_b2MPA",
   "metadata": {
    "id": "q6o9Ag_b2MPA"
   },
   "source": [
    "From the  target labels  we  need  to  normalise  the  column to get our  labels to be  normal as 5"
   ]
  },
  {
   "cell_type": "markdown",
   "id": "y95AihOzug_Q",
   "metadata": {
    "id": "y95AihOzug_Q"
   },
   "source": [
    "Cleaning  the  data  by converting the  text in to lower case (Normalising  the  data)"
   ]
  },
  {
   "cell_type": "code",
   "execution_count": null,
   "id": "8h3eakTWc6lr",
   "metadata": {
    "id": "8h3eakTWc6lr",
    "tags": []
   },
   "outputs": [],
   "source": [
    "df[\"category\"] =df[\"category\"].str.lower()\n",
    "df[\"paragraph\"] =df[\"paragraph\"].str.lower()\n",
    "df[\"has_entity\"] = df[\"has_entity\"].str.lower()"
   ]
  },
  {
   "cell_type": "code",
   "execution_count": 7,
   "id": "zJV4yWifoNhk",
   "metadata": {
    "colab": {
     "base_uri": "https://localhost:8080/",
     "height": 596
    },
    "id": "zJV4yWifoNhk",
    "outputId": "6b9c1dab-aafd-43c4-e82c-7a239e65985d",
    "tags": []
   },
   "outputs": [
    {
     "ename": "NameError",
     "evalue": "name 'sns' is not defined",
     "output_type": "error",
     "traceback": [
      "\u001b[1;31m---------------------------------------------------------------------------\u001b[0m",
      "\u001b[1;31mNameError\u001b[0m                                 Traceback (most recent call last)",
      "\u001b[1;32m~\\AppData\\Local\\Temp\\ipykernel_7044\\1336242698.py\u001b[0m in \u001b[0;36m<module>\u001b[1;34m\u001b[0m\n\u001b[1;32m----> 1\u001b[1;33m \u001b[0msns\u001b[0m\u001b[1;33m.\u001b[0m\u001b[0mbarplot\u001b[0m\u001b[1;33m(\u001b[0m\u001b[0mpd\u001b[0m\u001b[1;33m.\u001b[0m\u001b[0mget_dummies\u001b[0m\u001b[1;33m(\u001b[0m\u001b[0mdf\u001b[0m\u001b[1;33m[\u001b[0m\u001b[1;34m\"category\"\u001b[0m\u001b[1;33m]\u001b[0m\u001b[1;33m)\u001b[0m\u001b[1;33m)\u001b[0m\u001b[1;33m\u001b[0m\u001b[1;33m\u001b[0m\u001b[0m\n\u001b[0m\u001b[0;32m      2\u001b[0m \u001b[0mplt\u001b[0m\u001b[1;33m.\u001b[0m\u001b[0mxticks\u001b[0m\u001b[1;33m(\u001b[0m\u001b[0mrotation\u001b[0m\u001b[1;33m=\u001b[0m\u001b[1;36m45\u001b[0m\u001b[1;33m)\u001b[0m\u001b[1;33m\u001b[0m\u001b[1;33m\u001b[0m\u001b[0m\n\u001b[0;32m      3\u001b[0m \u001b[0mplt\u001b[0m\u001b[1;33m.\u001b[0m\u001b[0mshow\u001b[0m\u001b[1;33m(\u001b[0m\u001b[1;33m)\u001b[0m\u001b[1;33m\u001b[0m\u001b[1;33m\u001b[0m\u001b[0m\n\u001b[0;32m      4\u001b[0m \u001b[1;31m#px.bar(pd.get_dummies(df[\"category\"]))\u001b[0m\u001b[1;33m\u001b[0m\u001b[1;33m\u001b[0m\u001b[0m\n",
      "\u001b[1;31mNameError\u001b[0m: name 'sns' is not defined"
     ]
    }
   ],
   "source": [
    "sns.barplot(pd.get_dummies(df[\"category\"]))\n",
    "plt.xticks(rotation=45)\n",
    "plt.show()\n",
    "#px.bar(pd.get_dummies(df[\"category\"]))"
   ]
  },
  {
   "cell_type": "markdown",
   "id": "thXXH-9W3E_O",
   "metadata": {
    "id": "thXXH-9W3E_O"
   },
   "source": [
    "From the  visual we  can see  that, biographies are  the  most occuring."
   ]
  },
  {
   "cell_type": "code",
   "execution_count": null,
   "id": "vUZr7nivrxak",
   "metadata": {
    "colab": {
     "base_uri": "https://localhost:8080/"
    },
    "id": "vUZr7nivrxak",
    "outputId": "3b5eac5b-c933-435d-e16e-6410e39d1a97",
    "tags": []
   },
   "outputs": [
    {
     "data": {
      "text/plain": [
       "array(['org_yes_product_no_person_yes_', 'org_yes_product_no_person_no_',\n",
       "       'org_no_product_yes_person_no_', 'org_yes_product_yes_person_yes_',\n",
       "       'org_no_product_no_person_no_', 'org_no_product_yes_person_yes_',\n",
       "       'org_no_product_no_person_yes_', 'org_yes_product_yes_person_no_',\n",
       "       'data missing'], dtype=object)"
      ]
     },
     "execution_count": 18,
     "metadata": {},
     "output_type": "execute_result"
    }
   ],
   "source": [
    "df[\"has_entity\"].unique()"
   ]
  },
  {
   "cell_type": "markdown",
   "id": "fXw4zLmYoNhn",
   "metadata": {
    "id": "fXw4zLmYoNhn"
   },
   "source": [
    "preparing  training  and  testing  data, to train our model with features `paragraph` and  `has_entity`\n",
    "target variable  `category`"
   ]
  },
  {
   "cell_type": "markdown",
   "id": "uLd9pF-R4E7h",
   "metadata": {
    "id": "uLd9pF-R4E7h"
   },
   "source": [
    "## 3. Data  splitting and  cleaning"
   ]
  },
  {
   "cell_type": "code",
   "execution_count": null,
   "id": "xIS3fHyZQ-Ko",
   "metadata": {
    "id": "xIS3fHyZQ-Ko",
    "tags": []
   },
   "outputs": [],
   "source": [
    "from sklearn.model_selection import train_test_split\n",
    "\n",
    "X = df['paragraph'] +\" \" + df['has_entity']\n",
    "y = df['category']\n",
    "X_train, X_test , y_train, y_test = train_test_split(X, y , random_state=42,test_size = 0.2, shuffle=True)"
   ]
  },
  {
   "cell_type": "markdown",
   "id": "J0ukCJG14NA3",
   "metadata": {
    "id": "J0ukCJG14NA3"
   },
   "source": [
    "We split  our  data  into  training  set  `x_train, y_train` and  `x_test, y_test`."
   ]
  },
  {
   "cell_type": "code",
   "execution_count": null,
   "id": "6jLIkWthQ95h",
   "metadata": {
    "colab": {
     "base_uri": "https://localhost:8080/"
    },
    "id": "6jLIkWthQ95h",
    "outputId": "d53eb854-40cf-4a0c-8838-8d5abf91bdc9",
    "tags": []
   },
   "outputs": [],
   "source": [
    "X_train =X_train.str.strip().str.replace('[^\\w\\s]', '').str.lower()\n",
    "X_test=X_test.str.strip().str.replace('[^\\w\\s]', '').str.lower()"
   ]
  },
  {
   "cell_type": "code",
   "execution_count": null,
   "id": "NIdAQKR9nuuf",
   "metadata": {
    "colab": {
     "base_uri": "https://localhost:8080/",
     "height": 610
    },
    "id": "NIdAQKR9nuuf",
    "outputId": "52d0fdbf-4588-4d5c-f9d4-0cd284c1b125",
    "tags": []
   },
   "outputs": [
    {
     "data": {
      "image/png": "[encoded data removed]",
      "text/plain": [
       "<Figure size 1200x600 with 4 Axes>"
      ]
     },
     "metadata": {},
     "output_type": "display_data"
    }
   ],
   "source": [
    "# Convert y_train and y_test arrays to Pandas Series\n",
    "y_train_series = pd.Series(y_train)\n",
    "y_test_series = pd.Series(y_test)\n",
    "# Calculate class distributions\n",
    "class_distribution_original = y.value_counts(normalize=True)\n",
    "class_distribution_train = y_train_series.value_counts(normalize=True)\n",
    "class_distribution_test = y_test_series.value_counts(normalize=True)\n",
    "# Plot class distributions\n",
    "plt.figure(figsize=(12, 6))\n",
    "plt.subplot(2, 2, 1)\n",
    "plt.pie(class_distribution_original, labels=class_distribution_original.index, autopct='%1.1f%%')\n",
    "plt.title('Original Dataset')\n",
    "\n",
    "plt.subplot(2, 2, 2)\n",
    "plt.pie(class_distribution_train, labels=class_distribution_train.index, autopct='%1.1f%%')\n",
    "plt.title('Training Set')\n",
    "\n",
    "plt.subplot(2, 2, 3)\n",
    "plt.pie(class_distribution_test, labels=class_distribution_test.index, autopct='%1.1f%%')\n",
    "plt.title('Testing Set')\n",
    "\n",
    "# Plotting split of X_train and X_test\n",
    "plt.subplot(2, 2, 4)\n",
    "plt.bar(['X_train', 'X_test'], [len(X_train), len(X_test)], color=['blue', 'orange'])\n",
    "plt.title('Split of X_train and X_test')\n",
    "\n",
    "plt.suptitle('Class Distribution and Data Split')\n",
    "plt.tight_layout()\n",
    "plt.show()\n"
   ]
  },
  {
   "cell_type": "markdown",
   "id": "SQOFNPROYLdP",
   "metadata": {
    "id": "SQOFNPROYLdP"
   },
   "source": [
    "\n",
    "\n",
    "*   Pie charts show the genre split in original data (left) and training data (right).\n",
    "*    Colors representing the different genres,the bar graph confirms the training data and reflects the original data's distribution.\n",
    "\n",
    "  \n",
    "\n"
   ]
  },
  {
   "cell_type": "code",
   "execution_count": null,
   "id": "48rSAXebQ-C3",
   "metadata": {
    "colab": {
     "base_uri": "https://localhost:8080/"
    },
    "id": "48rSAXebQ-C3",
    "outputId": "32cced58-45b1-44ed-c1e6-c9f603c9c71e",
    "tags": []
   },
   "outputs": [
    {
     "data": {
      "text/plain": [
       "3930    it has also been suggested that edgar allan po...\n",
       "2119    important philosophers who developed natural l...\n",
       "437     anderson arranged for david sherwin to write a...\n",
       "4122    machine learning programs can do things that i...\n",
       "6168    programming languages are grouped by paradigms...\n",
       "                              ...                        \n",
       "5903    major branches of philosophy are epistemology,...\n",
       "5334    isaac titsingh can be described as being the o...\n",
       "5540    \" blake regards the tour as one of the formati...\n",
       "866     evolution as a process with hardy a. c. and fo...\n",
       "7516    hawking had a motor neurone disease, and becau...\n",
       "Length: 7193, dtype: object"
      ]
     },
     "execution_count": 22,
     "metadata": {},
     "output_type": "execute_result"
    }
   ],
   "source": [
    "X_train"
   ]
  },
  {
   "cell_type": "markdown",
   "id": "GZ5yuIC5oNhp",
   "metadata": {
    "id": "GZ5yuIC5oNhp"
   },
   "source": [
    "Getting  the  number of  our  classes on the  target variable"
   ]
  },
  {
   "cell_type": "code",
   "execution_count": null,
   "id": "4Bx8pGCmY8jf",
   "metadata": {
    "colab": {
     "base_uri": "https://localhost:8080/"
    },
    "id": "4Bx8pGCmY8jf",
    "outputId": "0cdd0d8b-dccc-4de9-f66a-8b4e9023c81c",
    "tags": []
   },
   "outputs": [
    {
     "name": "stdout",
     "output_type": "stream",
     "text": [
      "target Category classes 5\n"
     ]
    }
   ],
   "source": [
    "num_classes = len(np.unique(y))\n",
    "print(\"target Category classes {}\".format(num_classes))"
   ]
  },
  {
   "cell_type": "markdown",
   "id": "uSI78Lgs4vOv",
   "metadata": {
    "id": "uSI78Lgs4vOv"
   },
   "source": [
    "Our  target classes  for  prediction are  `5`\n",
    "\n",
    "with their  corresponding  names, and  label number  assigned."
   ]
  },
  {
   "cell_type": "markdown",
   "id": "qyOi1plF5lOa",
   "metadata": {
    "id": "qyOi1plF5lOa"
   },
   "source": [
    "# 4. Data  encoding"
   ]
  },
  {
   "cell_type": "markdown",
   "id": "jUb2_V4AoNhq",
   "metadata": {
    "id": "jUb2_V4AoNhq"
   },
   "source": [
    "Convert  variables  to categorical in a  format   our   machine  learning  model will ```\"understand\"```."
   ]
  },
  {
   "cell_type": "code",
   "execution_count": null,
   "id": "yl4RNydGQ9__",
   "metadata": {
    "id": "yl4RNydGQ9__",
    "tags": []
   },
   "outputs": [],
   "source": [
    "from sklearn.preprocessing import  LabelEncoder\n",
    "clf = LabelEncoder()\n",
    "y_train = clf.fit_transform(y_train)\n",
    "y_test = clf.transform(y_test)"
   ]
  },
  {
   "cell_type": "markdown",
   "id": "YyQlfC_ctVyw",
   "metadata": {
    "id": "YyQlfC_ctVyw"
   },
   "source": [
    "Converting  the  dataset to numeric for  our  model to train on.\n",
    "Label encoder  is  choosen to convert  our  data  to corresponding  classes  with each class  assigned a  number, from `0` to `4`\n",
    "converted  the  entity to numeric."
   ]
  },
  {
   "cell_type": "markdown",
   "id": "P495rHb454T3",
   "metadata": {
    "id": "P495rHb454T3"
   },
   "source": [
    "## 5. Model  building"
   ]
  },
  {
   "cell_type": "markdown",
   "id": "-IwRBdiHyLDG",
   "metadata": {
    "id": "-IwRBdiHyLDG"
   },
   "source": [
    "Vectorizing  our  data, to prepare  it  for  training"
   ]
  },
  {
   "cell_type": "code",
   "execution_count": null,
   "id": "3o1p6Lo_kQRO",
   "metadata": {
    "id": "3o1p6Lo_kQRO",
    "tags": []
   },
   "outputs": [],
   "source": [
    "vectorizer = TfidfVectorizer()\n",
    "X_train = vectorizer.fit_transform(X_train)\n",
    "X_test = vectorizer.transform(X_test)"
   ]
  },
  {
   "cell_type": "markdown",
   "id": "bTSfNbEMoNhs",
   "metadata": {
    "id": "bTSfNbEMoNhs"
   },
   "source": [
    "Train the  model with our  data"
   ]
  },
  {
   "cell_type": "code",
   "execution_count": null,
   "id": "iVCMUAlJkQDz",
   "metadata": {
    "colab": {
     "base_uri": "https://localhost:8080/",
     "height": 74
    },
    "id": "iVCMUAlJkQDz",
    "outputId": "bbc8b24a-1bd9-4e98-efce-6a6f109584c1",
    "tags": []
   },
   "outputs": [
    {
     "data": {
      "text/html": [
       "<style>#sk-container-id-1 {\n",
       "  /* Definition of color scheme common for light and dark mode */\n",
       "  --sklearn-color-text: black;\n",
       "  --sklearn-color-line: gray;\n",
       "  /* Definition of color scheme for unfitted estimators */\n",
       "  --sklearn-color-unfitted-level-0: #fff5e6;\n",
       "  --sklearn-color-unfitted-level-1: #f6e4d2;\n",
       "  --sklearn-color-unfitted-level-2: #ffe0b3;\n",
       "  --sklearn-color-unfitted-level-3: chocolate;\n",
       "  /* Definition of color scheme for fitted estimators */\n",
       "  --sklearn-color-fitted-level-0: #f0f8ff;\n",
       "  --sklearn-color-fitted-level-1: #d4ebff;\n",
       "  --sklearn-color-fitted-level-2: #b3dbfd;\n",
       "  --sklearn-color-fitted-level-3: cornflowerblue;\n",
       "\n",
       "  /* Specific color for light theme */\n",
       "  --sklearn-color-text-on-default-background: var(--sg-text-color, var(--theme-code-foreground, var(--jp-content-font-color1, black)));\n",
       "  --sklearn-color-background: var(--sg-background-color, var(--theme-background, var(--jp-layout-color0, white)));\n",
       "  --sklearn-color-border-box: var(--sg-text-color, var(--theme-code-foreground, var(--jp-content-font-color1, black)));\n",
       "  --sklearn-color-icon: #696969;\n",
       "\n",
       "  @media (prefers-color-scheme: dark) {\n",
       "    /* Redefinition of color scheme for dark theme */\n",
       "    --sklearn-color-text-on-default-background: var(--sg-text-color, var(--theme-code-foreground, var(--jp-content-font-color1, white)));\n",
       "    --sklearn-color-background: var(--sg-background-color, var(--theme-background, var(--jp-layout-color0, #111)));\n",
       "    --sklearn-color-border-box: var(--sg-text-color, var(--theme-code-foreground, var(--jp-content-font-color1, white)));\n",
       "    --sklearn-color-icon: #878787;\n",
       "  }\n",
       "}\n",
       "\n",
       "#sk-container-id-1 {\n",
       "  color: var(--sklearn-color-text);\n",
       "}\n",
       "\n",
       "#sk-container-id-1 pre {\n",
       "  padding: 0;\n",
       "}\n",
       "\n",
       "#sk-container-id-1 input.sk-hidden--visually {\n",
       "  border: 0;\n",
       "  clip: rect(1px 1px 1px 1px);\n",
       "  clip: rect(1px, 1px, 1px, 1px);\n",
       "  height: 1px;\n",
       "  margin: -1px;\n",
       "  overflow: hidden;\n",
       "  padding: 0;\n",
       "  position: absolute;\n",
       "  width: 1px;\n",
       "}\n",
       "\n",
       "#sk-container-id-1 div.sk-dashed-wrapped {\n",
       "  border: 1px dashed var(--sklearn-color-line);\n",
       "  margin: 0 0.4em 0.5em 0.4em;\n",
       "  box-sizing: border-box;\n",
       "  padding-bottom: 0.4em;\n",
       "  background-color: var(--sklearn-color-background);\n",
       "}\n",
       "\n",
       "#sk-container-id-1 div.sk-container {\n",
       "  /* jupyter's `normalize.less` sets `[hidden] { display: none; }`\n",
       "     but bootstrap.min.css set `[hidden] { display: none !important; }`\n",
       "     so we also need the `!important` here to be able to override the\n",
       "     default hidden behavior on the sphinx rendered scikit-learn.org.\n",
       "     See: https://github.com/scikit-learn/scikit-learn/issues/21755 */\n",
       "  display: inline-block !important;\n",
       "  position: relative;\n",
       "}\n",
       "\n",
       "#sk-container-id-1 div.sk-text-repr-fallback {\n",
       "  display: none;\n",
       "}\n",
       "\n",
       "div.sk-parallel-item,\n",
       "div.sk-serial,\n",
       "div.sk-item {\n",
       "  /* draw centered vertical line to link estimators */\n",
       "  background-image: linear-gradient(var(--sklearn-color-text-on-default-background), var(--sklearn-color-text-on-default-background));\n",
       "  background-size: 2px 100%;\n",
       "  background-repeat: no-repeat;\n",
       "  background-position: center center;\n",
       "}\n",
       "\n",
       "/* Parallel-specific style estimator block */\n",
       "\n",
       "#sk-container-id-1 div.sk-parallel-item::after {\n",
       "  content: \"\";\n",
       "  width: 100%;\n",
       "  border-bottom: 2px solid var(--sklearn-color-text-on-default-background);\n",
       "  flex-grow: 1;\n",
       "}\n",
       "\n",
       "#sk-container-id-1 div.sk-parallel {\n",
       "  display: flex;\n",
       "  align-items: stretch;\n",
       "  justify-content: center;\n",
       "  background-color: var(--sklearn-color-background);\n",
       "  position: relative;\n",
       "}\n",
       "\n",
       "#sk-container-id-1 div.sk-parallel-item {\n",
       "  display: flex;\n",
       "  flex-direction: column;\n",
       "}\n",
       "\n",
       "#sk-container-id-1 div.sk-parallel-item:first-child::after {\n",
       "  align-self: flex-end;\n",
       "  width: 50%;\n",
       "}\n",
       "\n",
       "#sk-container-id-1 div.sk-parallel-item:last-child::after {\n",
       "  align-self: flex-start;\n",
       "  width: 50%;\n",
       "}\n",
       "\n",
       "#sk-container-id-1 div.sk-parallel-item:only-child::after {\n",
       "  width: 0;\n",
       "}\n",
       "\n",
       "/* Serial-specific style estimator block */\n",
       "\n",
       "#sk-container-id-1 div.sk-serial {\n",
       "  display: flex;\n",
       "  flex-direction: column;\n",
       "  align-items: center;\n",
       "  background-color: var(--sklearn-color-background);\n",
       "  padding-right: 1em;\n",
       "  padding-left: 1em;\n",
       "}\n",
       "\n",
       "\n",
       "/* Toggleable style: style used for estimator/Pipeline/ColumnTransformer box that is\n",
       "clickable and can be expanded/collapsed.\n",
       "- Pipeline and ColumnTransformer use this feature and define the default style\n",
       "- Estimators will overwrite some part of the style using the `sk-estimator` class\n",
       "*/\n",
       "\n",
       "/* Pipeline and ColumnTransformer style (default) */\n",
       "\n",
       "#sk-container-id-1 div.sk-toggleable {\n",
       "  /* Default theme specific background. It is overwritten whether we have a\n",
       "  specific estimator or a Pipeline/ColumnTransformer */\n",
       "  background-color: var(--sklearn-color-background);\n",
       "}\n",
       "\n",
       "/* Toggleable label */\n",
       "#sk-container-id-1 label.sk-toggleable__label {\n",
       "  cursor: pointer;\n",
       "  display: block;\n",
       "  width: 100%;\n",
       "  margin-bottom: 0;\n",
       "  padding: 0.5em;\n",
       "  box-sizing: border-box;\n",
       "  text-align: center;\n",
       "}\n",
       "\n",
       "#sk-container-id-1 label.sk-toggleable__label-arrow:before {\n",
       "  /* Arrow on the left of the label */\n",
       "  content: \"▸\";\n",
       "  float: left;\n",
       "  margin-right: 0.25em;\n",
       "  color: var(--sklearn-color-icon);\n",
       "}\n",
       "\n",
       "#sk-container-id-1 label.sk-toggleable__label-arrow:hover:before {\n",
       "  color: var(--sklearn-color-text);\n",
       "}\n",
       "\n",
       "/* Toggleable content - dropdown */\n",
       "\n",
       "#sk-container-id-1 div.sk-toggleable__content {\n",
       "  max-height: 0;\n",
       "  max-width: 0;\n",
       "  overflow: hidden;\n",
       "  text-align: left;\n",
       "  /* unfitted */\n",
       "  background-color: var(--sklearn-color-unfitted-level-0);\n",
       "}\n",
       "\n",
       "#sk-container-id-1 div.sk-toggleable__content.fitted {\n",
       "  /* fitted */\n",
       "  background-color: var(--sklearn-color-fitted-level-0);\n",
       "}\n",
       "\n",
       "#sk-container-id-1 div.sk-toggleable__content pre {\n",
       "  margin: 0.2em;\n",
       "  border-radius: 0.25em;\n",
       "  color: var(--sklearn-color-text);\n",
       "  /* unfitted */\n",
       "  background-color: var(--sklearn-color-unfitted-level-0);\n",
       "}\n",
       "\n",
       "#sk-container-id-1 div.sk-toggleable__content.fitted pre {\n",
       "  /* unfitted */\n",
       "  background-color: var(--sklearn-color-fitted-level-0);\n",
       "}\n",
       "\n",
       "#sk-container-id-1 input.sk-toggleable__control:checked~div.sk-toggleable__content {\n",
       "  /* Expand drop-down */\n",
       "  max-height: 200px;\n",
       "  max-width: 100%;\n",
       "  overflow: auto;\n",
       "}\n",
       "\n",
       "#sk-container-id-1 input.sk-toggleable__control:checked~label.sk-toggleable__label-arrow:before {\n",
       "  content: \"▾\";\n",
       "}\n",
       "\n",
       "/* Pipeline/ColumnTransformer-specific style */\n",
       "\n",
       "#sk-container-id-1 div.sk-label input.sk-toggleable__control:checked~label.sk-toggleable__label {\n",
       "  color: var(--sklearn-color-text);\n",
       "  background-color: var(--sklearn-color-unfitted-level-2);\n",
       "}\n",
       "\n",
       "#sk-container-id-1 div.sk-label.fitted input.sk-toggleable__control:checked~label.sk-toggleable__label {\n",
       "  background-color: var(--sklearn-color-fitted-level-2);\n",
       "}\n",
       "\n",
       "/* Estimator-specific style */\n",
       "\n",
       "/* Colorize estimator box */\n",
       "#sk-container-id-1 div.sk-estimator input.sk-toggleable__control:checked~label.sk-toggleable__label {\n",
       "  /* unfitted */\n",
       "  background-color: var(--sklearn-color-unfitted-level-2);\n",
       "}\n",
       "\n",
       "#sk-container-id-1 div.sk-estimator.fitted input.sk-toggleable__control:checked~label.sk-toggleable__label {\n",
       "  /* fitted */\n",
       "  background-color: var(--sklearn-color-fitted-level-2);\n",
       "}\n",
       "\n",
       "#sk-container-id-1 div.sk-label label.sk-toggleable__label,\n",
       "#sk-container-id-1 div.sk-label label {\n",
       "  /* The background is the default theme color */\n",
       "  color: var(--sklearn-color-text-on-default-background);\n",
       "}\n",
       "\n",
       "/* On hover, darken the color of the background */\n",
       "#sk-container-id-1 div.sk-label:hover label.sk-toggleable__label {\n",
       "  color: var(--sklearn-color-text);\n",
       "  background-color: var(--sklearn-color-unfitted-level-2);\n",
       "}\n",
       "\n",
       "/* Label box, darken color on hover, fitted */\n",
       "#sk-container-id-1 div.sk-label.fitted:hover label.sk-toggleable__label.fitted {\n",
       "  color: var(--sklearn-color-text);\n",
       "  background-color: var(--sklearn-color-fitted-level-2);\n",
       "}\n",
       "\n",
       "/* Estimator label */\n",
       "\n",
       "#sk-container-id-1 div.sk-label label {\n",
       "  font-family: monospace;\n",
       "  font-weight: bold;\n",
       "  display: inline-block;\n",
       "  line-height: 1.2em;\n",
       "}\n",
       "\n",
       "#sk-container-id-1 div.sk-label-container {\n",
       "  text-align: center;\n",
       "}\n",
       "\n",
       "/* Estimator-specific */\n",
       "#sk-container-id-1 div.sk-estimator {\n",
       "  font-family: monospace;\n",
       "  border: 1px dotted var(--sklearn-color-border-box);\n",
       "  border-radius: 0.25em;\n",
       "  box-sizing: border-box;\n",
       "  margin-bottom: 0.5em;\n",
       "  /* unfitted */\n",
       "  background-color: var(--sklearn-color-unfitted-level-0);\n",
       "}\n",
       "\n",
       "#sk-container-id-1 div.sk-estimator.fitted {\n",
       "  /* fitted */\n",
       "  background-color: var(--sklearn-color-fitted-level-0);\n",
       "}\n",
       "\n",
       "/* on hover */\n",
       "#sk-container-id-1 div.sk-estimator:hover {\n",
       "  /* unfitted */\n",
       "  background-color: var(--sklearn-color-unfitted-level-2);\n",
       "}\n",
       "\n",
       "#sk-container-id-1 div.sk-estimator.fitted:hover {\n",
       "  /* fitted */\n",
       "  background-color: var(--sklearn-color-fitted-level-2);\n",
       "}\n",
       "\n",
       "/* Specification for estimator info (e.g. \"i\" and \"?\") */\n",
       "\n",
       "/* Common style for \"i\" and \"?\" */\n",
       "\n",
       ".sk-estimator-doc-link,\n",
       "a:link.sk-estimator-doc-link,\n",
       "a:visited.sk-estimator-doc-link {\n",
       "  float: right;\n",
       "  font-size: smaller;\n",
       "  line-height: 1em;\n",
       "  font-family: monospace;\n",
       "  background-color: var(--sklearn-color-background);\n",
       "  border-radius: 1em;\n",
       "  height: 1em;\n",
       "  width: 1em;\n",
       "  text-decoration: none !important;\n",
       "  margin-left: 1ex;\n",
       "  /* unfitted */\n",
       "  border: var(--sklearn-color-unfitted-level-1) 1pt solid;\n",
       "  color: var(--sklearn-color-unfitted-level-1);\n",
       "}\n",
       "\n",
       ".sk-estimator-doc-link.fitted,\n",
       "a:link.sk-estimator-doc-link.fitted,\n",
       "a:visited.sk-estimator-doc-link.fitted {\n",
       "  /* fitted */\n",
       "  border: var(--sklearn-color-fitted-level-1) 1pt solid;\n",
       "  color: var(--sklearn-color-fitted-level-1);\n",
       "}\n",
       "\n",
       "/* On hover */\n",
       "div.sk-estimator:hover .sk-estimator-doc-link:hover,\n",
       ".sk-estimator-doc-link:hover,\n",
       "div.sk-label-container:hover .sk-estimator-doc-link:hover,\n",
       ".sk-estimator-doc-link:hover {\n",
       "  /* unfitted */\n",
       "  background-color: var(--sklearn-color-unfitted-level-3);\n",
       "  color: var(--sklearn-color-background);\n",
       "  text-decoration: none;\n",
       "}\n",
       "\n",
       "div.sk-estimator.fitted:hover .sk-estimator-doc-link.fitted:hover,\n",
       ".sk-estimator-doc-link.fitted:hover,\n",
       "div.sk-label-container:hover .sk-estimator-doc-link.fitted:hover,\n",
       ".sk-estimator-doc-link.fitted:hover {\n",
       "  /* fitted */\n",
       "  background-color: var(--sklearn-color-fitted-level-3);\n",
       "  color: var(--sklearn-color-background);\n",
       "  text-decoration: none;\n",
       "}\n",
       "\n",
       "/* Span, style for the box shown on hovering the info icon */\n",
       ".sk-estimator-doc-link span {\n",
       "  display: none;\n",
       "  z-index: 9999;\n",
       "  position: relative;\n",
       "  font-weight: normal;\n",
       "  right: .2ex;\n",
       "  padding: .5ex;\n",
       "  margin: .5ex;\n",
       "  width: min-content;\n",
       "  min-width: 20ex;\n",
       "  max-width: 50ex;\n",
       "  color: var(--sklearn-color-text);\n",
       "  box-shadow: 2pt 2pt 4pt #999;\n",
       "  /* unfitted */\n",
       "  background: var(--sklearn-color-unfitted-level-0);\n",
       "  border: .5pt solid var(--sklearn-color-unfitted-level-3);\n",
       "}\n",
       "\n",
       ".sk-estimator-doc-link.fitted span {\n",
       "  /* fitted */\n",
       "  background: var(--sklearn-color-fitted-level-0);\n",
       "  border: var(--sklearn-color-fitted-level-3);\n",
       "}\n",
       "\n",
       ".sk-estimator-doc-link:hover span {\n",
       "  display: block;\n",
       "}\n",
       "\n",
       "/* \"?\"-specific style due to the `<a>` HTML tag */\n",
       "\n",
       "#sk-container-id-1 a.estimator_doc_link {\n",
       "  float: right;\n",
       "  font-size: 1rem;\n",
       "  line-height: 1em;\n",
       "  font-family: monospace;\n",
       "  background-color: var(--sklearn-color-background);\n",
       "  border-radius: 1rem;\n",
       "  height: 1rem;\n",
       "  width: 1rem;\n",
       "  text-decoration: none;\n",
       "  /* unfitted */\n",
       "  color: var(--sklearn-color-unfitted-level-1);\n",
       "  border: var(--sklearn-color-unfitted-level-1) 1pt solid;\n",
       "}\n",
       "\n",
       "#sk-container-id-1 a.estimator_doc_link.fitted {\n",
       "  /* fitted */\n",
       "  border: var(--sklearn-color-fitted-level-1) 1pt solid;\n",
       "  color: var(--sklearn-color-fitted-level-1);\n",
       "}\n",
       "\n",
       "/* On hover */\n",
       "#sk-container-id-1 a.estimator_doc_link:hover {\n",
       "  /* unfitted */\n",
       "  background-color: var(--sklearn-color-unfitted-level-3);\n",
       "  color: var(--sklearn-color-background);\n",
       "  text-decoration: none;\n",
       "}\n",
       "\n",
       "#sk-container-id-1 a.estimator_doc_link.fitted:hover {\n",
       "  /* fitted */\n",
       "  background-color: var(--sklearn-color-fitted-level-3);\n",
       "}\n",
       "</style><div id=\"sk-container-id-1\" class=\"sk-top-container\"><div class=\"sk-text-repr-fallback\"><pre>MultinomialNB()</pre><b>In a Jupyter environment, please rerun this cell to show the HTML representation or trust the notebook. <br />On GitHub, the HTML representation is unable to render, please try loading this page with nbviewer.org.</b></div><div class=\"sk-container\" hidden><div class=\"sk-item\"><div class=\"sk-estimator fitted sk-toggleable\"><input class=\"sk-toggleable__control sk-hidden--visually\" id=\"sk-estimator-id-1\" type=\"checkbox\" checked><label for=\"sk-estimator-id-1\" class=\"sk-toggleable__label fitted sk-toggleable__label-arrow fitted\">&nbsp;&nbsp;MultinomialNB<a class=\"sk-estimator-doc-link fitted\" rel=\"noreferrer\" target=\"_blank\" href=\"https://scikit-learn.org/1.4/modules/generated/sklearn.naive_bayes.MultinomialNB.html\">?<span>Documentation for MultinomialNB</span></a><span class=\"sk-estimator-doc-link fitted\">i<span>Fitted</span></span></label><div class=\"sk-toggleable__content fitted\"><pre>MultinomialNB()</pre></div> </div></div></div></div>"
      ],
      "text/plain": [
       "MultinomialNB()"
      ]
     },
     "execution_count": 26,
     "metadata": {},
     "output_type": "execute_result"
    }
   ],
   "source": [
    "from sklearn.naive_bayes import  MultinomialNB\n",
    "model = MultinomialNB()\n",
    "model.fit(X_train, y_train)"
   ]
  },
  {
   "cell_type": "code",
   "execution_count": null,
   "id": "uDFdiOEwwLWW",
   "metadata": {
    "id": "uDFdiOEwwLWW",
    "tags": []
   },
   "outputs": [],
   "source": [
    "y_pred = model.predict(X_test)"
   ]
  },
  {
   "cell_type": "markdown",
   "id": "d735cbd8-e3a0-4b36-87d5-b81b90154cbb",
   "metadata": {},
   "source": [
    "# Models valuation and  Metrics\n"
   ]
  },
  {
   "cell_type": "markdown",
   "id": "Tg3hOzBmtrRX",
   "metadata": {
    "id": "Tg3hOzBmtrRX"
   },
   "source": [
    "#### Some of these are restricted to the binary classification case:\n",
    "\n",
    "- [x] `confusion_matrix(y_true, y_pred[, labels])` : Compute confusion matrix to evaluate the accuracy of a classification\n",
    "- [ ] `hinge_loss(y_true, pred_decision[, labels, ...])`\tAverage hinge loss (non-regularized)\n",
    "#### Some also work in the multilabel case:\n",
    "\n",
    "- [x]  `accuracy_score(y_true, y_pred[, normalize, ...])` \tAccuracy classification score.\n",
    "- [x] `classification_report(y_true, y_pred[, ...])`\tBuild a text report showing the main classification metrics\n",
    "- [ ] `f1_score(y_true, y_pred[, labels, ...])`\tCompute the F1 score, also known as balanced F-score or F-measure"
   ]
  },
  {
   "cell_type": "markdown",
   "id": "1cfe44d6-281f-4ecf-aff6-0938b5e3a179",
   "metadata": {
    "tags": []
   },
   "source": [
    "# Key Concepts in Model Evaluation\n",
    "Now that we have a clear overview of the importance of model evaluation, let’s delve into some key concepts that will help you better understand the evaluation process.\n",
    "\n",
    "##  Overfitting and Underfitting\n",
    "One of the fundamental concepts in model evaluation is the tradeoff between overfitting and underfitting. Overfitting occurs when a model learns the training data too well, making it overly complex and unable to generalize to unseen examples. On the other hand, underfitting happens when a model is too simple and fails to capture the underlying patterns in the data. Balancing these two extremes is crucial in building models that have good predictive performance on unseen data.\n",
    "\n",
    "## Bias-Variance Tradeoff\n",
    "The bias-variance tradeoff is another important consideration in model evaluation. Bias refers to the simplifying assumptions a model makes about the relationship between the input features and the target variable. Variance, on the other hand, refers to the sensitivity of the model to variations in the training data. Finding the right balance between bias and variance is key to achieving optimal model performance.\n",
    "\n",
    "## Generalization and Validation\n",
    "Generalization is the ability of a model to perform well on unseen data. It is a crucial aspect of model evaluation because it determines how well our models will perform in real-world scenarios. Validation, on the other hand, involves assessing the performance of a model on a separate validation dataset, which consists of examples that were not used during training. This allows us to estimate how well the model will generalize to new, unseen examples.\n",
    "\n",
    "## Different Types of Model Evaluation Techniques\n",
    "Now that we have a solid understanding of the key concepts, let’s explore different techniques for evaluating machine learning models.\n",
    "\n",
    "## Holdout Method\n",
    "The holdout method, also known as the train-test split, is one of the simplest model evaluation techniques. It involves splitting the available data into two parts: a training set and a test set. The model is trained on the training set and then evaluated on the test set. This allows us to estimate the model’s performance on unseen data.\n",
    "\n",
    "## Cross-Validation\n",
    "Cross-validation is a more robust model evaluation technique that overcomes the limitations of the holdout method. It involves dividing the data into multiple subsets or “folds.” The model is trained on a combination of these folds and evaluated on the remaining fold. By repeating this process with different combinations of folds, we can obtain a more reliable estimate of the model’s performance.\n",
    "\n"
   ]
  },
  {
   "cell_type": "markdown",
   "id": "c2f4c3da-a6d4-4d72-b3f1-e9ede16b2a35",
   "metadata": {},
   "source": [
    "The accuracy_score function computes the accuracy, either the fraction (default) or the count (normalize=False) of correct predictions.\n",
    "\n",
    "In multilabel classification, the function returns the subset accuracy. If the entire set of predicted labels for a sample strictly match with the true set of labels, then the subset accuracy is 1.0; otherwise it is 0.0.\n",
    "\n",
    "If $$\\hat{y}_i $$ is the predicted value of the i-th sample and $$y_i$$ is the corresponding true value, then the fraction of correct predictions over $$n_\\text{samples}$$ is defined as\n",
    "\n",
    "$$ \\texttt{accuracy}(y, \\hat{y}) = \\frac{1}{n_\\text{samples}} \\sum_{i=0}^{n_\\text{samples}-1} 1(\\hat{y}_i = y_i) $$ where $$1(x)$$ is the"
   ]
  },
  {
   "cell_type": "markdown",
   "id": "714e4682-239c-4015-9fb5-050fb8251a1e",
   "metadata": {},
   "source": [
    "## 1. Accuracy\n",
    "Accuracy is used to measure the performance of the model. It is the ratio of Total correct instances to the total instances. \n",
    "\n",
    "$$ Accuracy= \n",
    "TP+TN+FP+FN\n",
    "TP+TN $$\n",
    "## 2. Precision\n",
    "Precision is a measure of how accurate a model’s positive predictions are. It is defined as the ratio of true positive predictions to the total number of positive predictions made by the model.\n",
    "$$Precision= \n",
    "TP+FP\n",
    "TP$$\n",
    "## 3. Recall\n",
    "Recall measures the effectiveness of a classification model in identifying all relevant instances from a dataset. It is the ratio of the number of true positive (TP) instances to the sum of true positive and false negative (FN) instances.\n",
    "$$Recall= \n",
    "TP+FN\n",
    "TP$$\n",
    "Note: We use precision when we want to minimize false positives, crucial in scenarios like spam email detection where misclassifying a non-spam message as spam is costly. And we use recall when minimizing false negatives is essential, as in medical diagnoses, where identifying all actual positive cases is critical, even if it results in some false positives.\n",
    "\n",
    "## 4. F1-Score\n",
    "F1-score is used to evaluate the overall performance of a classification model. It is the harmonic mean of precision and recall,\n",
    "\n",
    "$$ F1-Score= \n",
    "Precision+Recall$$\n",
    "## 2⋅Precision⋅Recall\n",
    "\n",
    "We balance precision and recall with the F1-score when a trade-off between minimizing false positives and false negatives is necessary, such as in information retrieval systems.\n",
    "\n",
    "## 5. Specificity:\n",
    "Specificity is another important metric in the evaluation of classification models, particularly in binary classification. It measures the ability of a model to correctly identify negative instances. Specificity is also known as the True Negative Rate.\n",
    "\n",
    "Specificity\n",
    "\n",
    "$$Specificity= \n",
    "TN+FP\n",
    "TN $$"
   ]
  },
  {
   "cell_type": "markdown",
   "id": "43c502cf-de7d-4e23-8541-7ccdb8e16eb9",
   "metadata": {},
   "source": [
    "### Classification Report\n",
    "The classification_report function builds a text report showing the main classification metrics."
   ]
  },
  {
   "cell_type": "markdown",
   "id": "63ff8821-d35a-4558-84dc-4a0af6b285c6",
   "metadata": {
    "tags": []
   },
   "source": [
    "Intuitively, <strong> precision</strong> is the ability of the classifier not to label as positive a sample that is negative, <br>and <strong>recall</strong> is the ability of the classifier to find all the positive samples.\n",
    "\n",
    "The <strong>F-measure</strong> ($$F_\\beta$$ and $$F_1$$ measures) can be interpreted as a weighted harmonic mean of the precision and recall. A $$F_\\beta$$ measure reaches its best value at 1 and its worst score at 0. With $$\\beta = 1, F_\\beta and F_1$$ are equivalent, and the recall and the precision are equally important.\n",
    "\n"
   ]
  },
  {
   "cell_type": "code",
   "execution_count": null,
   "id": "M-GW8W4H0FH9",
   "metadata": {
    "colab": {
     "base_uri": "https://localhost:8080/"
    },
    "id": "M-GW8W4H0FH9",
    "outputId": "695be568-fc1b-4828-e148-7d84652e9b6a",
    "tags": []
   },
   "outputs": [
    {
     "name": "stdout",
     "output_type": "stream",
     "text": [
      "Models  accuracy 0.88\n"
     ]
    }
   ],
   "source": [
    "from sklearn.metrics  import  accuracy_score, multilabel_confusion_matrix\n",
    "print(\"Models  accuracy {:.2f}\".format(accuracy_score(y_pred =y_pred, y_true= y_test)))"
   ]
  },
  {
   "cell_type": "markdown",
   "id": "329d963c-b656-4edd-a1e5-f710eb39c207",
   "metadata": {},
   "source": [
    "#### What is a Confusion Matrix?\n",
    "A `confusion matrix` is a matrix that summarizes the performance of a machine learning model on a set of test data. It is a means of displaying the number of accurate and inaccurate instances based on the model’s predictions. It is often used to measure the performance of classification models, which aim to predict a categorical label for each input instance.\n",
    "\n",
    "The matrix displays the number of instances produced by the model on the test data.\n",
    "\n",
    "- `True positives (TP)`: occur when the model accurately predicts a positive data point.\n",
    "- `True negatives (TN)`: occur when the model accurately predicts a negative data point.\n",
    "- `False positives (FP)`: occur when the model predicts a positive data point incorrectly.\n",
    "- `False negatives (FN)`: occur when the model mispredicts a negative data point.\n",
    "Why do we need a Confusion Matrix?\n",
    "When assessing a classification model’s performance, a confusion matrix is essential. It offers a thorough analysis of true positive, true negative, false positive, and false negative predictions, facilitating a more profound comprehension of a model’s recall, accuracy, precision, and overall effectiveness in class distinction. When there is an uneven class distribution in a dataset, this matrix is especially helpful in evaluating a model’s performance beyond basic accuracy metrics.\n",
    "\n"
   ]
  },
  {
   "cell_type": "code",
   "execution_count": null,
   "id": "7tvn6uM72Bmy",
   "metadata": {
    "colab": {
     "base_uri": "https://localhost:8080/",
     "height": 472
    },
    "id": "7tvn6uM72Bmy",
    "outputId": "9749f67a-c748-4be6-88f7-ddcbb9fe8eed",
    "tags": []
   },
   "outputs": [
    {
     "data": {
      "image/png": "[encoded data removed]",
      "text/plain": [
       "<Figure size 640x480 with 2 Axes>"
      ]
     },
     "metadata": {},
     "output_type": "display_data"
    }
   ],
   "source": [
    "\n",
    "from sklearn.metrics import confusion_matrix\n",
    "import seaborn as sns\n",
    "import matplotlib.pyplot as plt\n",
    "cm = confusion_matrix(y_test, y_pred)\n",
    "sns.heatmap(cm, annot=True, fmt=\"d\", cmap=\"Blues\")\n",
    "plt.xlabel(\"Predicted label\")\n",
    "plt.ylabel(\"True label\")\n",
    "plt.title(\"Confusion Matrix\")\n",
    "plt.show()\n"
   ]
  },
  {
   "cell_type": "markdown",
   "id": "gSdUwUOP2Twr",
   "metadata": {
    "id": "gSdUwUOP2Twr"
   },
   "source": [
    "From the  confusion matrix  heatmap, we  can see  the  model performs  poorly  in predicting the movies about artificial intelligence"
   ]
  },
  {
   "cell_type": "markdown",
   "id": "d2fe7300-e30a-4415-843b-9b6750d6ddc2",
   "metadata": {
    "id": "4tAEK8m-2LVP",
    "tags": []
   },
   "source": [
    "What is a classification report?\n",
    "\n",
    "As the name suggests, it is the report which explains everything about the classification. This is the summary of the quality of classification made by the constructed ML model. It comprises mainly 5 columns and (N+3) rows. The first column is the class label’s name and followed by Precision, Recall, F1-score, and Support. N rows are for N class labels and other three rows are for accuracy, macro average, and weighted average. \n",
    "\n",
    "- `Precision` : It is calculated with respect to the predicted values. For class-A, out of total predictions how many were really belong to class-A in actual dataset, is defined as the precision. It is the ratio of [i][i] cell of confusion matrix and sum of the [i] column.\n",
    "\n",
    "- `Recall`: It is calculated with respect to the actual values in dataset. For class-A, out of total entries in dataset, how many were actually classified in class-A by the ML model, is defined as the recall. It is the ratio of [i][i] cell of confusion matrix and sum of the [i] row.\n",
    "\n",
    "- `F1-score` : It is the harmonic mean of precision and recall.\n",
    "For example, to calculate the harmonic mean, you would divide the number of observations by the reciprocal of each number. \n",
    "- `Support` : It is the total entries of each class in the actual dataset. It is simply the sum of rows for every class-i.\n",
    "\n"
   ]
  },
  {
   "cell_type": "code",
   "execution_count": null,
   "id": "dUkxRJ8Qm58J",
   "metadata": {
    "colab": {
     "base_uri": "https://localhost:8080/"
    },
    "id": "dUkxRJ8Qm58J",
    "outputId": "3df4d4e9-eb61-4aff-ab01-1fc8387695c7",
    "tags": []
   },
   "outputs": [
    {
     "name": "stderr",
     "output_type": "stream",
     "text": [
      "C:\\Users\\XPERT\\AppData\\Local\\Packages\\PythonSoftwareFoundation.Python.3.10_qbz5n2kfra8p0\\LocalCache\\local-packages\\Python310\\site-packages\\sklearn\\metrics\\_classification.py:1509: UndefinedMetricWarning: Precision is ill-defined and being set to 0.0 in labels with no predicted samples. Use `zero_division` parameter to control this behavior.\n",
      "  _warn_prf(average, modifier, f\"{metric.capitalize()} is\", len(result))\n",
      "C:\\Users\\XPERT\\AppData\\Local\\Packages\\PythonSoftwareFoundation.Python.3.10_qbz5n2kfra8p0\\LocalCache\\local-packages\\Python310\\site-packages\\sklearn\\metrics\\_classification.py:1509: UndefinedMetricWarning: Precision is ill-defined and being set to 0.0 in labels with no predicted samples. Use `zero_division` parameter to control this behavior.\n",
      "  _warn_prf(average, modifier, f\"{metric.capitalize()} is\", len(result))\n",
      "C:\\Users\\XPERT\\AppData\\Local\\Packages\\PythonSoftwareFoundation.Python.3.10_qbz5n2kfra8p0\\LocalCache\\local-packages\\Python310\\site-packages\\sklearn\\metrics\\_classification.py:1509: UndefinedMetricWarning: Precision is ill-defined and being set to 0.0 in labels with no predicted samples. Use `zero_division` parameter to control this behavior.\n",
      "  _warn_prf(average, modifier, f\"{metric.capitalize()} is\", len(result))\n"
     ]
    }
   ],
   "source": [
    "from sklearn import metrics\n",
    "report  = metrics.classification_report(y_true = y_test, y_pred = y_pred)"
   ]
  },
  {
   "cell_type": "code",
   "execution_count": null,
   "id": "mqe9vaW4AR83",
   "metadata": {
    "colab": {
     "base_uri": "https://localhost:8080/",
     "height": 299
    },
    "id": "mqe9vaW4AR83",
    "outputId": "e2160441-819e-47f8-d369-fce8c8344286",
    "tags": []
   },
   "outputs": [
    {
     "name": "stderr",
     "output_type": "stream",
     "text": [
      "C:\\Users\\XPERT\\AppData\\Local\\Packages\\PythonSoftwareFoundation.Python.3.10_qbz5n2kfra8p0\\LocalCache\\local-packages\\Python310\\site-packages\\sklearn\\metrics\\_classification.py:1509: UndefinedMetricWarning: Precision is ill-defined and being set to 0.0 in labels with no predicted samples. Use `zero_division` parameter to control this behavior.\n",
      "  _warn_prf(average, modifier, f\"{metric.capitalize()} is\", len(result))\n",
      "C:\\Users\\XPERT\\AppData\\Local\\Packages\\PythonSoftwareFoundation.Python.3.10_qbz5n2kfra8p0\\LocalCache\\local-packages\\Python310\\site-packages\\sklearn\\metrics\\_classification.py:1509: UndefinedMetricWarning: Precision is ill-defined and being set to 0.0 in labels with no predicted samples. Use `zero_division` parameter to control this behavior.\n",
      "  _warn_prf(average, modifier, f\"{metric.capitalize()} is\", len(result))\n",
      "C:\\Users\\XPERT\\AppData\\Local\\Packages\\PythonSoftwareFoundation.Python.3.10_qbz5n2kfra8p0\\LocalCache\\local-packages\\Python310\\site-packages\\sklearn\\metrics\\_classification.py:1509: UndefinedMetricWarning: Precision is ill-defined and being set to 0.0 in labels with no predicted samples. Use `zero_division` parameter to control this behavior.\n",
      "  _warn_prf(average, modifier, f\"{metric.capitalize()} is\", len(result))\n"
     ]
    },
    {
     "data": {
      "text/html": [
       "<div>\n",
       "<style scoped>\n",
       "    .dataframe tbody tr th:only-of-type {\n",
       "        vertical-align: middle;\n",
       "    }\n",
       "\n",
       "    .dataframe tbody tr th {\n",
       "        vertical-align: top;\n",
       "    }\n",
       "\n",
       "    .dataframe thead th {\n",
       "        text-align: right;\n",
       "    }\n",
       "</style>\n",
       "<table border=\"1\" class=\"dataframe\">\n",
       "  <thead>\n",
       "    <tr style=\"text-align: right;\">\n",
       "      <th></th>\n",
       "      <th>0</th>\n",
       "      <th>1</th>\n",
       "      <th>2</th>\n",
       "      <th>3</th>\n",
       "      <th>4</th>\n",
       "      <th>accuracy</th>\n",
       "      <th>macro avg</th>\n",
       "      <th>weighted avg</th>\n",
       "    </tr>\n",
       "  </thead>\n",
       "  <tbody>\n",
       "    <tr>\n",
       "      <th>precision</th>\n",
       "      <td>0.964824</td>\n",
       "      <td>0.908795</td>\n",
       "      <td>0.0</td>\n",
       "      <td>0.781302</td>\n",
       "      <td>0.961240</td>\n",
       "      <td>0.883824</td>\n",
       "      <td>0.723232</td>\n",
       "      <td>0.880003</td>\n",
       "    </tr>\n",
       "    <tr>\n",
       "      <th>recall</th>\n",
       "      <td>0.678445</td>\n",
       "      <td>0.919275</td>\n",
       "      <td>0.0</td>\n",
       "      <td>0.962963</td>\n",
       "      <td>0.944162</td>\n",
       "      <td>0.883824</td>\n",
       "      <td>0.700969</td>\n",
       "      <td>0.883824</td>\n",
       "    </tr>\n",
       "    <tr>\n",
       "      <th>f1-score</th>\n",
       "      <td>0.796680</td>\n",
       "      <td>0.914005</td>\n",
       "      <td>0.0</td>\n",
       "      <td>0.862673</td>\n",
       "      <td>0.952625</td>\n",
       "      <td>0.883824</td>\n",
       "      <td>0.705197</td>\n",
       "      <td>0.875406</td>\n",
       "    </tr>\n",
       "    <tr>\n",
       "      <th>support</th>\n",
       "      <td>283.000000</td>\n",
       "      <td>607.000000</td>\n",
       "      <td>29.0</td>\n",
       "      <td>486.000000</td>\n",
       "      <td>394.000000</td>\n",
       "      <td>0.883824</td>\n",
       "      <td>1799.000000</td>\n",
       "      <td>1799.000000</td>\n",
       "    </tr>\n",
       "  </tbody>\n",
       "</table>\n",
       "</div>"
      ],
      "text/plain": [
       "                    0           1     2           3           4  accuracy  \\\n",
       "precision    0.964824    0.908795   0.0    0.781302    0.961240  0.883824   \n",
       "recall       0.678445    0.919275   0.0    0.962963    0.944162  0.883824   \n",
       "f1-score     0.796680    0.914005   0.0    0.862673    0.952625  0.883824   \n",
       "support    283.000000  607.000000  29.0  486.000000  394.000000  0.883824   \n",
       "\n",
       "             macro avg  weighted avg  \n",
       "precision     0.723232      0.880003  \n",
       "recall        0.700969      0.883824  \n",
       "f1-score      0.705197      0.875406  \n",
       "support    1799.000000   1799.000000  "
      ]
     },
     "execution_count": 31,
     "metadata": {},
     "output_type": "execute_result"
    }
   ],
   "source": [
    "report_df = pd.DataFrame(metrics.classification_report(y_true = y_test, y_pred = y_pred, output_dict=True)).transpose()\n",
    "report = report_df.transpose()\n",
    "report"
   ]
  },
  {
   "cell_type": "code",
   "execution_count": null,
   "id": "HBregjSHBCgK",
   "metadata": {
    "colab": {
     "base_uri": "https://localhost:8080/",
     "height": 175
    },
    "id": "HBregjSHBCgK",
    "outputId": "9326f8b5-856a-4f74-81ab-91100861e141",
    "tags": []
   },
   "outputs": [
    {
     "data": {
      "text/html": [
       "<div>\n",
       "<style scoped>\n",
       "    .dataframe tbody tr th:only-of-type {\n",
       "        vertical-align: middle;\n",
       "    }\n",
       "\n",
       "    .dataframe tbody tr th {\n",
       "        vertical-align: top;\n",
       "    }\n",
       "\n",
       "    .dataframe thead th {\n",
       "        text-align: right;\n",
       "    }\n",
       "</style>\n",
       "<table border=\"1\" class=\"dataframe\">\n",
       "  <thead>\n",
       "    <tr style=\"text-align: right;\">\n",
       "      <th></th>\n",
       "      <th>artificial intelligence</th>\n",
       "      <th>biographies</th>\n",
       "      <th>movies about artificial intelligence</th>\n",
       "      <th>philosophy</th>\n",
       "      <th>programming</th>\n",
       "      <th>accuracy</th>\n",
       "      <th>macro avg</th>\n",
       "      <th>weighted avg</th>\n",
       "    </tr>\n",
       "  </thead>\n",
       "  <tbody>\n",
       "    <tr>\n",
       "      <th>precision</th>\n",
       "      <td>0.964824</td>\n",
       "      <td>0.908795</td>\n",
       "      <td>0.0</td>\n",
       "      <td>0.781302</td>\n",
       "      <td>0.961240</td>\n",
       "      <td>0.883824</td>\n",
       "      <td>0.723232</td>\n",
       "      <td>0.880003</td>\n",
       "    </tr>\n",
       "    <tr>\n",
       "      <th>recall</th>\n",
       "      <td>0.678445</td>\n",
       "      <td>0.919275</td>\n",
       "      <td>0.0</td>\n",
       "      <td>0.962963</td>\n",
       "      <td>0.944162</td>\n",
       "      <td>0.883824</td>\n",
       "      <td>0.700969</td>\n",
       "      <td>0.883824</td>\n",
       "    </tr>\n",
       "    <tr>\n",
       "      <th>f1-score</th>\n",
       "      <td>0.796680</td>\n",
       "      <td>0.914005</td>\n",
       "      <td>0.0</td>\n",
       "      <td>0.862673</td>\n",
       "      <td>0.952625</td>\n",
       "      <td>0.883824</td>\n",
       "      <td>0.705197</td>\n",
       "      <td>0.875406</td>\n",
       "    </tr>\n",
       "    <tr>\n",
       "      <th>support</th>\n",
       "      <td>283.000000</td>\n",
       "      <td>607.000000</td>\n",
       "      <td>29.0</td>\n",
       "      <td>486.000000</td>\n",
       "      <td>394.000000</td>\n",
       "      <td>0.883824</td>\n",
       "      <td>1799.000000</td>\n",
       "      <td>1799.000000</td>\n",
       "    </tr>\n",
       "  </tbody>\n",
       "</table>\n",
       "</div>"
      ],
      "text/plain": [
       "           artificial intelligence  biographies  \\\n",
       "precision                 0.964824     0.908795   \n",
       "recall                    0.678445     0.919275   \n",
       "f1-score                  0.796680     0.914005   \n",
       "support                 283.000000   607.000000   \n",
       "\n",
       "           movies about artificial intelligence  philosophy  programming  \\\n",
       "precision                                   0.0    0.781302     0.961240   \n",
       "recall                                      0.0    0.962963     0.944162   \n",
       "f1-score                                    0.0    0.862673     0.952625   \n",
       "support                                    29.0  486.000000   394.000000   \n",
       "\n",
       "           accuracy    macro avg  weighted avg  \n",
       "precision  0.883824     0.723232      0.880003  \n",
       "recall     0.883824     0.700969      0.883824  \n",
       "f1-score   0.883824     0.705197      0.875406  \n",
       "support    0.883824  1799.000000   1799.000000  "
      ]
     },
     "execution_count": 32,
     "metadata": {},
     "output_type": "execute_result"
    }
   ],
   "source": [
    "info = pd.DataFrame(report.values, columns=['artificial intelligence','biographies', 'movies about artificial intelligence','philosophy', 'programming',\"accuracy\",\"macro avg\",\"weighted avg\"])\n",
    "info.index = ['precision', 'recall', 'f1-score', 'support']\n",
    "info"
   ]
  },
  {
   "cell_type": "markdown",
   "id": "69faJIys3dyl",
   "metadata": {
    "id": "69faJIys3dyl"
   },
   "source": [
    "2. 5. Task 2: text clarity classification prototype."
   ]
  },
  {
   "cell_type": "code",
   "execution_count": null,
   "id": "zXF1pq7e3Fnh",
   "metadata": {
    "id": "zXF1pq7e3Fnh",
    "tags": []
   },
   "outputs": [],
   "source": [
    "import numpy as np\n",
    "import pandas as pd\n",
    "from sklearn.linear_model import LogisticRegression\n",
    "from sklearn.svm import  SVC\n",
    "from sklearn.feature_extraction.text import TfidfVectorizer\n",
    "from sklearn.model_selection import train_test_split\n",
    "labeled_data = df[~df['text_clarity'].isnull()]\n",
    "unlabeled_data = df[df['text_clarity'].isnull()]\n",
    "X_labeled = labeled_data['paragraph']\n",
    "y_labeled = labeled_data['text_clarity']"
   ]
  },
  {
   "cell_type": "markdown",
   "id": "nPhjzO3nXGFb",
   "metadata": {
    "id": "nPhjzO3nXGFb"
   },
   "source": [
    "Looking at the `labeled_data` and `unlabeled_data ` data distribution"
   ]
  },
  {
   "cell_type": "code",
   "execution_count": null,
   "id": "7oAgXo31INRl",
   "metadata": {
    "colab": {
     "base_uri": "https://localhost:8080/",
     "height": 367
    },
    "id": "7oAgXo31INRl",
    "outputId": "ce4c052c-4bde-4036-bf57-0453fc0aa337",
    "tags": []
   },
   "outputs": [
    {
     "data": {
      "image/png": "[encoded data removed]",
      "text/plain": [
       "<Figure size 500x400 with 1 Axes>"
      ]
     },
     "metadata": {},
     "output_type": "display_data"
    }
   ],
   "source": [
    "labeled_count = len(labeled_data)\n",
    "unlabeled_count = len(unlabeled_data)\n",
    "plt.figure(figsize=(5, 4))\n",
    "plt.pie([labeled_count, unlabeled_count], labels=['Labeled', 'Unlabeled'], autopct='%1.1f%%', startangle=140)\n",
    "plt.title('Distribution of Labeled and Unlabeled Data')\n",
    "plt.axis('equal')\n",
    "plt.show()\n"
   ]
  },
  {
   "cell_type": "markdown",
   "id": "sS6-Np4K4ErT",
   "metadata": {
    "id": "sS6-Np4K4ErT"
   },
   "source": [
    "### Split and  vectorize  our  text\n"
   ]
  },
  {
   "cell_type": "code",
   "execution_count": null,
   "id": "uKb-DIj-3FY7",
   "metadata": {
    "id": "uKb-DIj-3FY7",
    "tags": []
   },
   "outputs": [],
   "source": [
    "vectorizer = TfidfVectorizer()\n",
    "X_labeled_vec = vectorizer.fit_transform(X_labeled)\n",
    "X_train, X_test, y_train, y_test = train_test_split(X_labeled_vec, y_labeled, test_size=0.2, random_state=42, stratify=y_labeled)"
   ]
  },
  {
   "cell_type": "code",
   "execution_count": null,
   "id": "Qxymc4vNzkhE",
   "metadata": {
    "colab": {
     "base_uri": "https://localhost:8080/",
     "height": 478
    },
    "id": "Qxymc4vNzkhE",
    "outputId": "9a1a6b4f-e1b2-484c-f5c2-f81dec21e73b",
    "tags": []
   },
   "outputs": [
    {
     "data": {
      "image/png": "[encoded data removed]",
      "text/plain": [
       "<Figure size 1500x500 with 3 Axes>"
      ]
     },
     "metadata": {},
     "output_type": "display_data"
    }
   ],
   "source": [
    "\n",
    "# Calculate class distributions\n",
    "class_distribution_labeled = {label: count/len(y_labeled) for label, count in zip(*np.unique(y_labeled, return_counts=True))}\n",
    "class_distribution_train = {label: count/len(y_train) for label, count in zip(*np.unique(y_train, return_counts=True))}\n",
    "class_distribution_test = {label: count/len(y_test) for label, count in zip(*np.unique(y_test, return_counts=True))}\n",
    "fig, ax = plt.subplots(1, 3, figsize=(15, 5))\n",
    "# Pie chart for labeled dataset\n",
    "ax[0].pie(class_distribution_labeled.values(), labels=class_distribution_labeled.keys(), autopct='%1.1f%%', startangle=140)\n",
    "ax[0].set_title('Labeled Dataset')\n",
    "# Pie chart for train dataset\n",
    "ax[1].pie(class_distribution_train.values(), labels=class_distribution_train.keys(), autopct='%1.1f%%', startangle=140)\n",
    "ax[1].set_title('Train Dataset')\n",
    "# Pie chart for test dataset\n",
    "ax[2].pie(class_distribution_test.values(), labels=class_distribution_test.keys(), autopct='%1.1f%%', startangle=140)\n",
    "ax[2].set_title('Test Dataset')\n",
    "\n",
    "plt.tight_layout()\n",
    "plt.show()\n"
   ]
  },
  {
   "cell_type": "code",
   "execution_count": null,
   "id": "vG9ewfPF7Pqm",
   "metadata": {
    "id": "vG9ewfPF7Pqm",
    "tags": []
   },
   "outputs": [],
   "source": [
    "\n",
    "from sklearn.preprocessing import LabelBinarizer\n",
    "bin = LabelBinarizer()\n",
    "y_train = bin.fit_transform(y_train)\n",
    "y_test = bin.transform(y_test)"
   ]
  },
  {
   "cell_type": "markdown",
   "id": "VSynKD714fhm",
   "metadata": {
    "id": "VSynKD714fhm"
   },
   "source": [
    "### Model Building"
   ]
  },
  {
   "cell_type": "code",
   "execution_count": null,
   "id": "LQW2Mzrl3FWO",
   "metadata": {
    "colab": {
     "base_uri": "https://localhost:8080/"
    },
    "id": "LQW2Mzrl3FWO",
    "outputId": "ede0821f-8015-46b0-b808-5b8345fe1c0e",
    "tags": []
   },
   "outputs": [
    {
     "name": "stderr",
     "output_type": "stream",
     "text": [
      "C:\\Users\\XPERT\\AppData\\Local\\Packages\\PythonSoftwareFoundation.Python.3.10_qbz5n2kfra8p0\\LocalCache\\local-packages\\Python310\\site-packages\\sklearn\\utils\\validation.py:1300: DataConversionWarning: A column-vector y was passed when a 1d array was expected. Please change the shape of y to (n_samples, ), for example using ravel().\n",
      "  y = column_or_1d(y, warn=True)\n"
     ]
    }
   ],
   "source": [
    "clf = SVC()\n",
    "clf.fit(X_train, y_train)\n",
    "y_pred = clf.predict(X_test)\n",
    "unlabeled_pool = unlabeled_data['paragraph']\n",
    "unlabeled_pool_vec = vectorizer.transform(unlabeled_pool)"
   ]
  },
  {
   "cell_type": "markdown",
   "id": "Pljb8nJP5GnZ",
   "metadata": {
    "id": "Pljb8nJP5GnZ"
   },
   "source": [
    "Predicting  our  training  set."
   ]
  },
  {
   "cell_type": "code",
   "execution_count": null,
   "id": "VZ3UD3Ts3FP7",
   "metadata": {
    "id": "VZ3UD3Ts3FP7",
    "tags": []
   },
   "outputs": [],
   "source": [
    "unlabeled_preds = clf.predict(unlabeled_pool_vec)"
   ]
  },
  {
   "cell_type": "code",
   "execution_count": null,
   "id": "qVbKEkqY66bb",
   "metadata": {
    "colab": {
     "base_uri": "https://localhost:8080/",
     "height": 472
    },
    "id": "qVbKEkqY66bb",
    "outputId": "df89b1df-c915-4852-8200-380bfc99a540",
    "tags": []
   },
   "outputs": [
    {
     "data": {
      "image/png": "[encoded data removed]",
      "text/plain": [
       "<Figure size 640x480 with 2 Axes>"
      ]
     },
     "metadata": {},
     "output_type": "display_data"
    }
   ],
   "source": [
    "from sklearn.metrics import confusion_matrix\n",
    "import seaborn as sns\n",
    "import matplotlib.pyplot as plt\n",
    "cm = confusion_matrix(y_test,y_pred)\n",
    "sns.heatmap(cm, annot=True, fmt=\"d\", cmap=\"Blues\")\n",
    "plt.xlabel(\"Predicted label\")\n",
    "plt.ylabel(\"True label\")\n",
    "plt.title(\"Confusion Matrix\")\n",
    "plt.show()\n"
   ]
  },
  {
   "cell_type": "markdown",
   "id": "kDDzh-Fe8sIz",
   "metadata": {
    "id": "kDDzh-Fe8sIz"
   },
   "source": [
    "Our  model detected  all features belonging  to  clear_enough"
   ]
  },
  {
   "cell_type": "code",
   "execution_count": null,
   "id": "FBbxOQq_9OhL",
   "metadata": {
    "colab": {
     "base_uri": "https://localhost:8080/"
    },
    "id": "FBbxOQq_9OhL",
    "outputId": "78074a8f-ff06-44b4-929f-47289e8b1462",
    "tags": []
   },
   "outputs": [
    {
     "name": "stdout",
     "output_type": "stream",
     "text": [
      "              precision    recall  f1-score   support\n",
      "\n",
      "           0       0.50      1.00      0.67         1\n",
      "           1       0.00      0.00      0.00         1\n",
      "\n",
      "    accuracy                           0.50         2\n",
      "   macro avg       0.25      0.50      0.33         2\n",
      "weighted avg       0.25      0.50      0.33         2\n",
      "\n"
     ]
    },
    {
     "name": "stderr",
     "output_type": "stream",
     "text": [
      "C:\\Users\\XPERT\\AppData\\Local\\Packages\\PythonSoftwareFoundation.Python.3.10_qbz5n2kfra8p0\\LocalCache\\local-packages\\Python310\\site-packages\\sklearn\\metrics\\_classification.py:1509: UndefinedMetricWarning: Precision is ill-defined and being set to 0.0 in labels with no predicted samples. Use `zero_division` parameter to control this behavior.\n",
      "  _warn_prf(average, modifier, f\"{metric.capitalize()} is\", len(result))\n",
      "C:\\Users\\XPERT\\AppData\\Local\\Packages\\PythonSoftwareFoundation.Python.3.10_qbz5n2kfra8p0\\LocalCache\\local-packages\\Python310\\site-packages\\sklearn\\metrics\\_classification.py:1509: UndefinedMetricWarning: Precision is ill-defined and being set to 0.0 in labels with no predicted samples. Use `zero_division` parameter to control this behavior.\n",
      "  _warn_prf(average, modifier, f\"{metric.capitalize()} is\", len(result))\n",
      "C:\\Users\\XPERT\\AppData\\Local\\Packages\\PythonSoftwareFoundation.Python.3.10_qbz5n2kfra8p0\\LocalCache\\local-packages\\Python310\\site-packages\\sklearn\\metrics\\_classification.py:1509: UndefinedMetricWarning: Precision is ill-defined and being set to 0.0 in labels with no predicted samples. Use `zero_division` parameter to control this behavior.\n",
      "  _warn_prf(average, modifier, f\"{metric.capitalize()} is\", len(result))\n"
     ]
    }
   ],
   "source": [
    "from sklearn import metrics\n",
    "report  = metrics.classification_report(y_true = y_test, y_pred = y_pred)\n",
    "print(report)"
   ]
  },
  {
   "cell_type": "markdown",
   "id": "sUT5S8jh5GN_",
   "metadata": {
    "id": "sUT5S8jh5GN_"
   },
   "source": [
    "Appending  our  predicted, predicted  to the  unlabeled  data."
   ]
  },
  {
   "cell_type": "code",
   "execution_count": null,
   "id": "b57HxP4H4olF",
   "metadata": {
    "colab": {
     "base_uri": "https://localhost:8080/"
    },
    "id": "b57HxP4H4olF",
    "outputId": "2b8cbcd5-bbbf-491c-b51a-167e05555a6c",
    "tags": []
   },
   "outputs": [
    {
     "name": "stderr",
     "output_type": "stream",
     "text": [
      "C:\\Users\\XPERT\\AppData\\Local\\Temp\\ipykernel_8060\\2312487646.py:1: SettingWithCopyWarning: \n",
      "A value is trying to be set on a copy of a slice from a DataFrame.\n",
      "Try using .loc[row_indexer,col_indexer] = value instead\n",
      "\n",
      "See the caveats in the documentation: https://pandas.pydata.org/pandas-docs/stable/user_guide/indexing.html#returning-a-view-versus-a-copy\n",
      "  unlabeled_data[\"text_clarity\"] = unlabeled_preds\n"
     ]
    }
   ],
   "source": [
    "unlabeled_data[\"text_clarity\"] = unlabeled_preds"
   ]
  },
  {
   "cell_type": "markdown",
   "id": "Uof5wi1G6INK",
   "metadata": {
    "id": "Uof5wi1G6INK"
   },
   "source": [
    "Combining  our  datasets"
   ]
  },
  {
   "cell_type": "code",
   "execution_count": null,
   "id": "Tbk8xGz54rOr",
   "metadata": {
    "id": "Tbk8xGz54rOr",
    "tags": []
   },
   "outputs": [],
   "source": [
    "combined_data = pd.concat([labeled_data, unlabeled_data], ignore_index=True)"
   ]
  },
  {
   "cell_type": "code",
   "execution_count": null,
   "id": "Dk-OVYf65BCy",
   "metadata": {
    "colab": {
     "base_uri": "https://localhost:8080/",
     "height": 475
    },
    "id": "Dk-OVYf65BCy",
    "outputId": "16df0f2c-db2d-4304-9eef-26ac0e560a1e",
    "tags": []
   },
   "outputs": [
    {
     "data": {
      "text/html": [
       "<div>\n",
       "<style scoped>\n",
       "    .dataframe tbody tr th:only-of-type {\n",
       "        vertical-align: middle;\n",
       "    }\n",
       "\n",
       "    .dataframe tbody tr th {\n",
       "        vertical-align: top;\n",
       "    }\n",
       "\n",
       "    .dataframe thead th {\n",
       "        text-align: right;\n",
       "    }\n",
       "</style>\n",
       "<table border=\"1\" class=\"dataframe\">\n",
       "  <thead>\n",
       "    <tr style=\"text-align: right;\">\n",
       "      <th></th>\n",
       "      <th>par_id</th>\n",
       "      <th>paragraph</th>\n",
       "      <th>has_entity</th>\n",
       "      <th>lexicon_count</th>\n",
       "      <th>difficult_words</th>\n",
       "      <th>last_editor_gender</th>\n",
       "      <th>category</th>\n",
       "      <th>text_clarity</th>\n",
       "    </tr>\n",
       "  </thead>\n",
       "  <tbody>\n",
       "    <tr>\n",
       "      <th>0</th>\n",
       "      <td>4.282090e+11</td>\n",
       "      <td>ramsay was born in glasgow on 2 october 1852. ...</td>\n",
       "      <td>org_yes_product_no_person_yes_</td>\n",
       "      <td>49</td>\n",
       "      <td>12.0</td>\n",
       "      <td>man</td>\n",
       "      <td>biographies</td>\n",
       "      <td>clear_enough</td>\n",
       "    </tr>\n",
       "    <tr>\n",
       "      <th>1</th>\n",
       "      <td>5.642180e+11</td>\n",
       "      <td>it has been widely estimated for at least the ...</td>\n",
       "      <td>org_yes_product_no_person_no_</td>\n",
       "      <td>166</td>\n",
       "      <td>47.0</td>\n",
       "      <td>man</td>\n",
       "      <td>artificial intelligence</td>\n",
       "      <td>not_clear_enough</td>\n",
       "    </tr>\n",
       "    <tr>\n",
       "      <th>2</th>\n",
       "      <td>2.914010e+11</td>\n",
       "      <td>he went on to win the royal medal of the royal...</td>\n",
       "      <td>org_yes_product_no_person_no_</td>\n",
       "      <td>69</td>\n",
       "      <td>18.0</td>\n",
       "      <td>non-binary</td>\n",
       "      <td>biographies</td>\n",
       "      <td>clear_enough</td>\n",
       "    </tr>\n",
       "    <tr>\n",
       "      <th>3</th>\n",
       "      <td>3.154800e+10</td>\n",
       "      <td>the changes have altered many underlying assum...</td>\n",
       "      <td>org_no_product_yes_person_no_</td>\n",
       "      <td>76</td>\n",
       "      <td>27.0</td>\n",
       "      <td>non-binary</td>\n",
       "      <td>programming</td>\n",
       "      <td>clear_enough</td>\n",
       "    </tr>\n",
       "    <tr>\n",
       "      <th>4</th>\n",
       "      <td>5.063401e+10</td>\n",
       "      <td>after these novels were published, disraeli de...</td>\n",
       "      <td>org_yes_product_yes_person_yes_</td>\n",
       "      <td>200</td>\n",
       "      <td>47.0</td>\n",
       "      <td>man</td>\n",
       "      <td>biographies</td>\n",
       "      <td>not_clear_enough</td>\n",
       "    </tr>\n",
       "    <tr>\n",
       "      <th>...</th>\n",
       "      <td>...</td>\n",
       "      <td>...</td>\n",
       "      <td>...</td>\n",
       "      <td>...</td>\n",
       "      <td>...</td>\n",
       "      <td>...</td>\n",
       "      <td>...</td>\n",
       "      <td>...</td>\n",
       "    </tr>\n",
       "    <tr>\n",
       "      <th>8987</th>\n",
       "      <td>2.005230e+11</td>\n",
       "      <td>sir joseph dalton hooker  was a british botani...</td>\n",
       "      <td>org_yes_product_no_person_yes_</td>\n",
       "      <td>54</td>\n",
       "      <td>16.0</td>\n",
       "      <td>man</td>\n",
       "      <td>biographies</td>\n",
       "      <td>0</td>\n",
       "    </tr>\n",
       "    <tr>\n",
       "      <th>8988</th>\n",
       "      <td>5.063401e+10</td>\n",
       "      <td>as successful invasions of india generally cam...</td>\n",
       "      <td>org_yes_product_no_person_yes_</td>\n",
       "      <td>217</td>\n",
       "      <td>46.0</td>\n",
       "      <td>woman</td>\n",
       "      <td>biographies</td>\n",
       "      <td>0</td>\n",
       "    </tr>\n",
       "    <tr>\n",
       "      <th>8989</th>\n",
       "      <td>6.437004e+09</td>\n",
       "      <td>hawking was born on 8 january 1942 in oxford t...</td>\n",
       "      <td>org_yes_product_no_person_yes_</td>\n",
       "      <td>91</td>\n",
       "      <td>27.0</td>\n",
       "      <td>woman</td>\n",
       "      <td>biographies</td>\n",
       "      <td>0</td>\n",
       "    </tr>\n",
       "    <tr>\n",
       "      <th>8990</th>\n",
       "      <td>7.252590e+11</td>\n",
       "      <td>more complex tasks can be making custom data e...</td>\n",
       "      <td>org_yes_product_no_person_no_</td>\n",
       "      <td>47</td>\n",
       "      <td>15.0</td>\n",
       "      <td>man</td>\n",
       "      <td>programming</td>\n",
       "      <td>0</td>\n",
       "    </tr>\n",
       "    <tr>\n",
       "      <th>8991</th>\n",
       "      <td>1.091260e+11</td>\n",
       "      <td>governments, and especially the police and cou...</td>\n",
       "      <td>org_no_product_no_person_no_</td>\n",
       "      <td>87</td>\n",
       "      <td>8.0</td>\n",
       "      <td>man</td>\n",
       "      <td>philosophy</td>\n",
       "      <td>0</td>\n",
       "    </tr>\n",
       "  </tbody>\n",
       "</table>\n",
       "<p>8992 rows × 8 columns</p>\n",
       "</div>"
      ],
      "text/plain": [
       "            par_id                                          paragraph  \\\n",
       "0     4.282090e+11  ramsay was born in glasgow on 2 october 1852. ...   \n",
       "1     5.642180e+11  it has been widely estimated for at least the ...   \n",
       "2     2.914010e+11  he went on to win the royal medal of the royal...   \n",
       "3     3.154800e+10  the changes have altered many underlying assum...   \n",
       "4     5.063401e+10  after these novels were published, disraeli de...   \n",
       "...            ...                                                ...   \n",
       "8987  2.005230e+11  sir joseph dalton hooker  was a british botani...   \n",
       "8988  5.063401e+10  as successful invasions of india generally cam...   \n",
       "8989  6.437004e+09  hawking was born on 8 january 1942 in oxford t...   \n",
       "8990  7.252590e+11  more complex tasks can be making custom data e...   \n",
       "8991  1.091260e+11  governments, and especially the police and cou...   \n",
       "\n",
       "                           has_entity  lexicon_count  difficult_words  \\\n",
       "0      org_yes_product_no_person_yes_             49             12.0   \n",
       "1       org_yes_product_no_person_no_            166             47.0   \n",
       "2       org_yes_product_no_person_no_             69             18.0   \n",
       "3       org_no_product_yes_person_no_             76             27.0   \n",
       "4     org_yes_product_yes_person_yes_            200             47.0   \n",
       "...                               ...            ...              ...   \n",
       "8987   org_yes_product_no_person_yes_             54             16.0   \n",
       "8988   org_yes_product_no_person_yes_            217             46.0   \n",
       "8989   org_yes_product_no_person_yes_             91             27.0   \n",
       "8990    org_yes_product_no_person_no_             47             15.0   \n",
       "8991     org_no_product_no_person_no_             87              8.0   \n",
       "\n",
       "     last_editor_gender                 category      text_clarity  \n",
       "0                   man              biographies      clear_enough  \n",
       "1                   man  artificial intelligence  not_clear_enough  \n",
       "2            non-binary              biographies      clear_enough  \n",
       "3            non-binary              programming      clear_enough  \n",
       "4                   man              biographies  not_clear_enough  \n",
       "...                 ...                      ...               ...  \n",
       "8987                man              biographies                 0  \n",
       "8988              woman              biographies                 0  \n",
       "8989              woman              biographies                 0  \n",
       "8990                man              programming                 0  \n",
       "8991                man               philosophy                 0  \n",
       "\n",
       "[8992 rows x 8 columns]"
      ]
     },
     "execution_count": 44,
     "metadata": {},
     "output_type": "execute_result"
    }
   ],
   "source": [
    "combined_data"
   ]
  }
 ],
 "metadata": {
  "colab": {
   "provenance": []
  },
  "kaggle": {
   "accelerator": "gpu",
   "dataSources": [
    {
     "databundleVersionId": 7943951,
     "datasetId": 4595884,
     "sourceId": 7839841,
     "sourceType": "datasetVersion"
    },
    {
     "databundleVersionId": 7429175,
     "modelInstanceId": 4676,
     "sourceId": 6055,
     "sourceType": "modelInstanceVersion"
    }
   ],
   "dockerImageVersionId": 30665,
   "isGpuEnabled": true,
   "isInternetEnabled": true,
   "language": "python",
   "sourceType": "notebook"
  },
  "kernelspec": {
   "display_name": "Python 3 (ipykernel)",
   "language": "python",
   "name": "python3"
  },
  "language_info": {
   "codemirror_mode": {
    "name": "ipython",
    "version": 3
   },
   "file_extension": ".py",
   "mimetype": "text/x-python",
   "name": "python",
   "nbconvert_exporter": "python",
   "pygments_lexer": "ipython3",
   "version": "3.9.13"
  }
 },
 "nbformat": 4,
 "nbformat_minor": 5
}
